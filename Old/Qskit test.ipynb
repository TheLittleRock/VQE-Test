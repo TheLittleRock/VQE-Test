{
 "cells": [
  {
   "cell_type": "code",
   "execution_count": 1,
   "id": "ea4140ef-1a35-4ed2-a08f-aca824a42403",
   "metadata": {},
   "outputs": [],
   "source": [
    "from qiskit import *\n",
    "from qiskit.circuit.library import *\n",
    "from qiskit_aer import Aer\n",
    "from qiskit.visualization import plot_histogram\n",
    "from qiskit.quantum_info import SparsePauliOp\n",
    "from qiskit.primitives import Sampler, Estimator\n",
    "from qiskit.visualization import array_to_latex\n",
    "from qiskit.quantum_info import Statevector, random_statevector\n",
    "from qiskit.quantum_info.operators import Operator, Pauli\n",
    "#from qiskit_ibm_runtime import QiskitRuntimeService, SamplerV2 as Sampler\n",
    "\n",
    "import numpy as np"
   ]
  },
  {
   "cell_type": "markdown",
   "id": "9408cc3e-aab3-4efb-8e24-e2061cd86147",
   "metadata": {},
   "source": [
    "## Estimation"
   ]
  },
  {
   "cell_type": "code",
   "execution_count": 2,
   "id": "34ae6b7a-05f3-4e30-a6fd-00e016460b9d",
   "metadata": {},
   "outputs": [
    {
     "data": {
      "text/html": [
       "<pre style=\"word-wrap: normal;white-space: pre;background: #fff0;line-height: 1.1;font-family: &quot;Courier New&quot;,Courier,monospace\">        ┌───┐      ░ ┌─┐      \n",
       "   q_0: ┤ H ├──■───░─┤M├──────\n",
       "        └───┘┌─┴─┐ ░ └╥┘┌─┐   \n",
       "   q_1: ─────┤ X ├─░──╫─┤M├───\n",
       "        ┌───┐└───┘ ░  ║ └╥┘┌─┐\n",
       "   q_2: ┤ X ├──────░──╫──╫─┤M├\n",
       "        └───┘      ░  ║  ║ └╥┘\n",
       "meas: 3/══════════════╩══╩══╩═\n",
       "                      0  1  2 </pre>"
      ],
      "text/plain": [
       "        ┌───┐      ░ ┌─┐      \n",
       "   q_0: ┤ H ├──■───░─┤M├──────\n",
       "        └───┘┌─┴─┐ ░ └╥┘┌─┐   \n",
       "   q_1: ─────┤ X ├─░──╫─┤M├───\n",
       "        ┌───┐└───┘ ░  ║ └╥┘┌─┐\n",
       "   q_2: ┤ X ├──────░──╫──╫─┤M├\n",
       "        └───┘      ░  ║  ║ └╥┘\n",
       "meas: 3/══════════════╩══╩══╩═\n",
       "                      0  1  2 "
      ]
     },
     "execution_count": 2,
     "metadata": {},
     "output_type": "execute_result"
    }
   ],
   "source": [
    "qc = QuantumCircuit(3)\n",
    "qc.h(0)\n",
    "qc.cx(0, 1)\n",
    "qc.x(2)\n",
    "\n",
    "qc.measure_all()\n",
    "qc.draw()"
   ]
  },
  {
   "cell_type": "code",
   "execution_count": 3,
   "id": "2217f2a9-28ff-48aa-865c-8fa2ae2e099e",
   "metadata": {},
   "outputs": [
    {
     "name": "stdout",
     "output_type": "stream",
     "text": [
      "{'100': 48, '111': 52}\n"
     ]
    }
   ],
   "source": [
    "backend = Aer.get_backend(\"qasm_simulator\")\n",
    "tqc = transpile(qc, backend)\n",
    "job = backend.run(tqc, shots=100)\n",
    "result = job.result()\n",
    "counts = result.get_counts(tqc)\n",
    "print(counts)"
   ]
  },
  {
   "cell_type": "code",
   "execution_count": 4,
   "id": "3188f202-10c9-46a9-881b-1cf37b43f57e",
   "metadata": {},
   "outputs": [
    {
     "name": "stdout",
     "output_type": "stream",
     "text": [
      "Statevector([0.+0.j, 0.+0.j, 0.+0.j, 0.+0.j, 0.+0.j, 0.+0.j, 0.+0.j,\n",
      "             1.+0.j],\n",
      "            dims=(2, 2, 2))\n"
     ]
    }
   ],
   "source": [
    "backend = Aer.get_backend(\"statevector_simulator\")\n",
    "tqc = transpile(qc, backend)\n",
    "job = backend.run(tqc)\n",
    "result = job.result()\n",
    "statevector = result.get_statevector(tqc, 4)\n",
    "print(statevector)"
   ]
  },
  {
   "cell_type": "code",
   "execution_count": null,
   "id": "6085d8fc-16f5-4aa5-a473-86d917dda910",
   "metadata": {},
   "outputs": [],
   "source": []
  },
  {
   "cell_type": "code",
   "execution_count": 64,
   "id": "13cc5a7f-9cac-4812-b8cf-b3dcd6f3608a",
   "metadata": {},
   "outputs": [
    {
     "data": {
      "text/html": [
       "<pre style=\"word-wrap: normal;white-space: pre;background: #fff0;line-height: 1.1;font-family: &quot;Courier New&quot;,Courier,monospace\">     ┌───┐     ┌─┐   \n",
       "q_0: ┤ H ├──■──┤M├───\n",
       "     └───┘┌─┴─┐└╥┘┌─┐\n",
       "q_1: ─────┤ X ├─╫─┤M├\n",
       "          └───┘ ║ └╥┘\n",
       "c: 2/═══════════╩══╩═\n",
       "                0  1 </pre>"
      ],
      "text/plain": [
       "     ┌───┐     ┌─┐   \n",
       "q_0: ┤ H ├──■──┤M├───\n",
       "     └───┘┌─┴─┐└╥┘┌─┐\n",
       "q_1: ─────┤ X ├─╫─┤M├\n",
       "          └───┘ ║ └╥┘\n",
       "c: 2/═══════════╩══╩═\n",
       "                0  1 "
      ]
     },
     "execution_count": 64,
     "metadata": {},
     "output_type": "execute_result"
    }
   ],
   "source": [
    "mycircuit = QuantumCircuit(2, 2)\n",
    "mycircuit.h(0)\n",
    "mycircuit.cx(0,1)\n",
    "mycircuit.measure([0,1], [0,1])\n",
    "mycircuit.draw()"
   ]
  },
  {
   "cell_type": "code",
   "execution_count": 65,
   "id": "34313b63-24f2-4968-baea-0fa878a3c6af",
   "metadata": {},
   "outputs": [
    {
     "name": "stdout",
     "output_type": "stream",
     "text": [
      "{'11': 499, '00': 525}\n"
     ]
    }
   ],
   "source": [
    "simulator = Aer.get_backend('qasm_simulator')\n",
    "result = simulator.run(mycircuit).result()\n",
    "counts = result.get_counts(mycircuit)\n",
    "print(counts)"
   ]
  },
  {
   "cell_type": "code",
   "execution_count": 88,
   "id": "8c4877f1-2359-4e22-bd5b-cf60e3b7a87a",
   "metadata": {},
   "outputs": [
    {
     "data": {
      "text/latex": [
       "$$ |00\\rangle$$"
      ],
      "text/plain": [
       "<IPython.core.display.Latex object>"
      ]
     },
     "execution_count": 88,
     "metadata": {},
     "output_type": "execute_result"
    }
   ],
   "source": [
    "simulator = Aer.get_backend(\"statevector_simulator\")\n",
    "result = simulator.run(mycircuit).result()\n",
    "statevector = result.get_statevector(mycircuit)\n",
    "statevector.draw('latex')"
   ]
  },
  {
   "cell_type": "markdown",
   "id": "2e596d01-aa2d-4632-9b3e-7acd6d8afdcb",
   "metadata": {},
   "source": [
    "# 2023"
   ]
  },
  {
   "cell_type": "markdown",
   "id": "a82478e1-8d2c-4b3a-98ee-e18ac704cf68",
   "metadata": {},
   "source": [
    "## Sampler"
   ]
  },
  {
   "cell_type": "code",
   "execution_count": 27,
   "id": "fbd34ac9-3b25-448d-8ed9-b2dbfd92cbbf",
   "metadata": {},
   "outputs": [],
   "source": [
    "from qiskit_ibm_runtime import QiskitRuntimeService\n",
    " \n",
    "service = QiskitRuntimeService(channel=\"ibm_quantum\", token=\"f58f42d85021cfb16a7674da14445e2ac7522ded0081c841dc9a136dfb352cbf416cf00f4988292d7fa182e2029535db74f617df0aeaf9dde978ada62774f469\")"
   ]
  },
  {
   "cell_type": "code",
   "execution_count": 28,
   "id": "2ee3db93-e44f-4149-a176-0774646f20a2",
   "metadata": {},
   "outputs": [
    {
     "data": {
      "image/png": "[encoded data removed]",
      "text/plain": [
       "<Figure size 413.165x200.667 with 1 Axes>"
      ]
     },
     "execution_count": 28,
     "metadata": {},
     "output_type": "execute_result"
    }
   ],
   "source": [
    "qc_1 = QuantumCircuit(1)\n",
    "qc_1.x(0)\n",
    "qc_1.measure_all()\n",
    "qc_1.draw('mpl')\n"
   ]
  },
  {
   "cell_type": "code",
   "execution_count": 29,
   "id": "51969fbc-cf5c-48cd-8956-1db163043b2f",
   "metadata": {},
   "outputs": [
    {
     "data": {
      "image/png": "[encoded data removed]",
      "text/plain": [
       "<Figure size 413.165x200.667 with 1 Axes>"
      ]
     },
     "execution_count": 29,
     "metadata": {},
     "output_type": "execute_result"
    }
   ],
   "source": [
    "qc_plus = QuantumCircuit(1)\n",
    "qc_plus.h(0)\n",
    "qc_plus.measure_all()\n",
    "qc_plus.draw('mpl')"
   ]
  },
  {
   "cell_type": "code",
   "execution_count": 30,
   "id": "cba7de8c-c447-43c4-a21c-feadcd96c8d0",
   "metadata": {},
   "outputs": [],
   "source": [
    "sampler = Sampler()\n",
    "job_1 = sampler.run(qc_1)\n",
    "job_plus = sampler.run(qc_plus)"
   ]
  },
  {
   "cell_type": "code",
   "execution_count": 31,
   "id": "050f3887-a3c0-4e7c-ba99-dbc3e6077984",
   "metadata": {},
   "outputs": [
    {
     "data": {
      "text/plain": [
       "[{1: 1.0}]"
      ]
     },
     "execution_count": 31,
     "metadata": {},
     "output_type": "execute_result"
    }
   ],
   "source": [
    "job_1.result().quasi_dists"
   ]
  },
  {
   "cell_type": "code",
   "execution_count": 32,
   "id": "0d1d44ad-e262-4766-b77d-fd7a2d06dd17",
   "metadata": {},
   "outputs": [
    {
     "data": {
      "text/plain": [
       "[{0: 0.5, 1: 0.5}]"
      ]
     },
     "execution_count": 32,
     "metadata": {},
     "output_type": "execute_result"
    }
   ],
   "source": [
    "job_plus.result().quasi_dists"
   ]
  },
  {
   "cell_type": "code",
   "execution_count": 33,
   "id": "ce23bb51-b145-45be-bd4a-baf6ee0e72a7",
   "metadata": {
    "scrolled": true
   },
   "outputs": [
    {
     "data": {
      "image/png": "[encoded data removed]",
      "text/plain": [
       "<Figure size 700x500 with 1 Axes>"
      ]
     },
     "execution_count": 33,
     "metadata": {},
     "output_type": "execute_result"
    }
   ],
   "source": [
    "legend = [\"Excited State\", \"Plus State\"] # TODO: Excited State does not appear\n",
    "plot_histogram([job_1.result().quasi_dists[0], job_plus.result().quasi_dists[0]], legend=legend)"
   ]
  },
  {
   "cell_type": "code",
   "execution_count": 34,
   "id": "734ab0cf-260c-49ae-a3bb-ceb2242507db",
   "metadata": {},
   "outputs": [],
   "source": [
    "qc_1.remove_final_measurements()\n",
    "qc_plus.remove_final_measurements()\n",
    "\n",
    "# rotate into the X-basis\n",
    "qc_1.h(0)\n",
    "qc_plus.h(0)\n",
    "\n",
    "qc_1.measure_all()\n",
    "qc_plus.measure_all()"
   ]
  },
  {
   "cell_type": "code",
   "execution_count": 35,
   "id": "25a84326-c1f0-4f80-a022-e1f3ec2dc938",
   "metadata": {},
   "outputs": [],
   "source": [
    "sampler = Sampler()\n",
    "job_1 = sampler.run(qc_1)\n",
    "job_plus = sampler.run(qc_plus)"
   ]
  },
  {
   "cell_type": "code",
   "execution_count": 36,
   "id": "6d290f87-d7cb-4b58-848c-8e90fb741f4d",
   "metadata": {
    "scrolled": true
   },
   "outputs": [
    {
     "data": {
      "image/png": "[encoded data removed]",
      "text/plain": [
       "<Figure size 700x500 with 1 Axes>"
      ]
     },
     "execution_count": 36,
     "metadata": {},
     "output_type": "execute_result"
    }
   ],
   "source": [
    "plot_histogram([job_1.result().quasi_dists[0], job_plus.result().quasi_dists[0]], legend=legend)"
   ]
  },
  {
   "cell_type": "markdown",
   "id": "4a47062c-23ec-4482-9ade-3526dd2d6776",
   "metadata": {},
   "source": [
    "## Estimator"
   ]
  },
  {
   "cell_type": "code",
   "execution_count": 37,
   "id": "af3095d6-613e-4ee4-9539-06efcc5cbc25",
   "metadata": {},
   "outputs": [],
   "source": [
    "qc2_1 = QuantumCircuit(1)\n",
    "qc2_1.x(0)\n",
    "\n",
    "qc2_plus = QuantumCircuit(1)\n",
    "qc2_plus.h(0)\n",
    "\n",
    "obsvs = list(SparsePauliOp(['Z', 'X']))"
   ]
  },
  {
   "cell_type": "code",
   "execution_count": 39,
   "id": "de689ed1-6d9a-499e-99ea-cd77cf669689",
   "metadata": {},
   "outputs": [],
   "source": [
    "estimator = Estimator()\n",
    "job2_1 = estimator.run([qc2_1]*len(obsvs), observables=obsvs)\n",
    "job2_plus = estimator.run([qc2_plus]*len(obsvs), observables=obsvs)"
   ]
  },
  {
   "cell_type": "code",
   "execution_count": 41,
   "id": "d6f6b813-2dad-4fd9-a110-0b24d79f2fde",
   "metadata": {},
   "outputs": [
    {
     "data": {
      "text/plain": [
       "EstimatorResult(values=array([0., 1.]), metadata=[{}, {}])"
      ]
     },
     "execution_count": 41,
     "metadata": {},
     "output_type": "execute_result"
    }
   ],
   "source": [
    "job2_plus.result()"
   ]
  },
  {
   "cell_type": "markdown",
   "id": "36893881-6d6a-4fad-a6f4-0eac5ad62d18",
   "metadata": {
    "jp-MarkdownHeadingCollapsed": true
   },
   "source": [
    "## Pauli decomposition of   $ \\begin{pmatrix} -1 & 2 \\\\ 2 & -1 \\end{pmatrix} $"
   ]
  },
  {
   "cell_type": "code",
   "execution_count": 58,
   "id": "59e523f9-f169-4050-b413-52fb50b1e903",
   "metadata": {},
   "outputs": [
    {
     "data": {
      "text/html": [
       "<pre style=\"word-wrap: normal;white-space: pre;background: #fff0;line-height: 1.1;font-family: &quot;Courier New&quot;,Courier,monospace\">   ┌───┐\n",
       "q: ┤ H ├\n",
       "   └───┘</pre>"
      ],
      "text/plain": [
       "   ┌───┐\n",
       "q: ┤ H ├\n",
       "   └───┘"
      ]
     },
     "execution_count": 58,
     "metadata": {},
     "output_type": "execute_result"
    }
   ],
   "source": [
    "original_circuit = QuantumCircuit(1)\n",
    "original_circuit.h(0)\n",
    "\n",
    "H = SparsePauliOp([\"X\", \"Z\"], [2, -1])\n",
    "\n",
    "aux_circuits = []\n",
    "\n",
    "for pauli in H.paulis:\n",
    "    aux_circ = original_circuit.copy()\n",
    "    aux_circ.barrier()\n",
    "    \n",
    "    if str(pauli) == \"X\":\n",
    "        aux_circ.h(0)\n",
    "   \n",
    "    elif str(pauli) == \"Y\":\n",
    "        aux_circ.sdg(0)\n",
    "        aux_circ.h(0)\n",
    "    \n",
    "    else:\n",
    "        aux_circ.id(0)\n",
    "    aux_circ.measure_all()\n",
    "    aux_circuits.append(aux_circ)\n",
    "\n",
    "original_circuit.draw()"
   ]
  },
  {
   "cell_type": "code",
   "execution_count": 86,
   "id": "b7cc670c-2c4d-4893-b67f-c0b97f70d3eb",
   "metadata": {},
   "outputs": [
    {
     "data": {
      "text/html": [
       "<pre style=\"word-wrap: normal;white-space: pre;background: #fff0;line-height: 1.1;font-family: &quot;Courier New&quot;,Courier,monospace\">        ┌───┐ ░ ┌───┐ ░ ┌─┐\n",
       "     q: ┤ H ├─░─┤ H ├─░─┤M├\n",
       "        └───┘ ░ └───┘ ░ └╥┘\n",
       "meas: 1/═════════════════╩═\n",
       "                         0 </pre>"
      ],
      "text/plain": [
       "        ┌───┐ ░ ┌───┐ ░ ┌─┐\n",
       "     q: ┤ H ├─░─┤ H ├─░─┤M├\n",
       "        └───┘ ░ └───┘ ░ └╥┘\n",
       "meas: 1/═════════════════╩═\n",
       "                         0 "
      ]
     },
     "execution_count": 86,
     "metadata": {},
     "output_type": "execute_result"
    }
   ],
   "source": [
    "aux_circuits[0].draw()"
   ]
  },
  {
   "cell_type": "code",
   "execution_count": 94,
   "id": "f13338ac-f330-4266-91d5-b6115b20813f",
   "metadata": {},
   "outputs": [
    {
     "name": "stdout",
     "output_type": "stream",
     "text": [
      "[{0: 1.0}, {0: 0.5, 1: 0.5}]\n"
     ]
    }
   ],
   "source": [
    "sampler = Sampler()\n",
    "job = sampler.run(aux_circuits)\n",
    "probability_dists = job.result().quasi_dists\n",
    "\n",
    "print(probability_dists)"
   ]
  },
  {
   "cell_type": "code",
   "execution_count": 75,
   "id": "f152c0a2-0676-4ef3-9813-c08503787d27",
   "metadata": {},
   "outputs": [
    {
     "name": "stdout",
     "output_type": "stream",
     "text": [
      "Sampler results:\n",
      "  >> Expected value of X: 1.00000\n",
      "  >> Expected value of Z: 0.00000\n",
      "  >> Total expected value: 2.00000\n"
     ]
    }
   ],
   "source": [
    "expvals = []\n",
    "for dist, pauli in zip(probability_dists, H.paulis):\n",
    "    \n",
    "    val = 0\n",
    "    \n",
    "    if str(pauli) == \"I\":\n",
    "        Lambda = IGate().to_matrix().real\n",
    "    else:\n",
    "        Lambda = ZGate().to_matrix().real\n",
    "    \n",
    "    val += Lambda[0][0] * dist.get(0, 0)\n",
    "    val += Lambda[1][1] * dist.get(1, 0)\n",
    "    \n",
    "    expvals.append(val)\n",
    "\n",
    "print(\"Sampler results:\")\n",
    "for (pauli, expval) in zip(H.paulis, expvals):\n",
    "    print(f\"  >> Expected value of {str(pauli)}: {expval:.5f}\")\n",
    "\n",
    "total_expval = np.sum(H.coeffs * expvals).real\n",
    "print(f\"  >> Total expected value: {total_expval:.5f}\")"
   ]
  },
  {
   "cell_type": "code",
   "execution_count": 95,
   "id": "ef038084-b91f-40ff-8ff5-d30077dd7ab0",
   "metadata": {},
   "outputs": [
    {
     "name": "stdout",
     "output_type": "stream",
     "text": [
      "Estimator results:\n",
      "  >> Expected value of X: 1.00000\n",
      "  >> Expected value of Z: 0.00000\n",
      "  >> Total expected value: 2.00000\n"
     ]
    }
   ],
   "source": [
    "## ESTIMATOR\n",
    "observables = [\n",
    "    *H.paulis,\n",
    "    H,\n",
    "]  # Note: run for individual Paulis as well as full observable H\n",
    "\n",
    "estimator = Estimator()\n",
    "job = estimator.run([original_circuit] * len(observables), observables)\n",
    "estimator_expvals = job.result().values\n",
    "\n",
    "print(\"Estimator results:\")\n",
    "for (obs, expval) in zip(observables, estimator_expvals):\n",
    "    if obs is not H:\n",
    "        print(f\"  >> Expected value of {str(obs)}: {expval:.5f}\")\n",
    "    else:\n",
    "        print(f\"  >> Total expected value: {expval:.5f}\")"
   ]
  },
  {
   "cell_type": "code",
   "execution_count": null,
   "id": "91be2777-9ffd-4e87-b029-9f51dc5f4456",
   "metadata": {},
   "outputs": [],
   "source": []
  }
 ],
 "metadata": {
  "kernelspec": {
   "display_name": "Python 3 (ipykernel)",
   "language": "python",
   "name": "python3"
  },
  "language_info": {
   "codemirror_mode": {
    "name": "ipython",
    "version": 3
   },
   "file_extension": ".py",
   "mimetype": "text/x-python",
   "name": "python",
   "nbconvert_exporter": "python",
   "pygments_lexer": "ipython3",
   "version": "3.11.6"
  }
 },
 "nbformat": 4,
 "nbformat_minor": 5
}
