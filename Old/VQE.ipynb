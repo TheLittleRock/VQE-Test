{
 "cells": [
  {
   "cell_type": "markdown",
   "id": "b5f0a80b-c934-4e69-94a0-bfef43f214cf",
   "metadata": {
    "jp-MarkdownHeadingCollapsed": true
   },
   "source": [
    "# Dependecies"
   ]
  },
  {
   "cell_type": "code",
   "execution_count": 1,
   "id": "4f5ec8b6-b4f0-4016-a6d8-a0d2a6b65fbd",
   "metadata": {},
   "outputs": [],
   "source": [
    "from qiskit import *\n",
    "from qiskit_aer import Aer\n",
    "from qiskit.visualization import plot_histogram\n",
    "from qiskit.visualization import array_to_latex\n",
    "from qiskit.quantum_info import SparsePauliOp\n",
    "from qiskit.quantum_info import Statevector, random_statevector\n",
    "from qiskit.quantum_info.operators import Operator, Pauli\n",
    "from qiskit.primitives import Sampler, Estimator\n",
    "from qiskit.circuit.library import *\n",
    "import numpy as np\n",
    "from numpy.linalg import eig"
   ]
  },
  {
   "cell_type": "code",
   "execution_count": 2,
   "id": "000820df-ec7d-407a-95b1-a248e36d8acd",
   "metadata": {},
   "outputs": [],
   "source": [
    "my_style = {\n",
    "\"backgroundcolor\" : \"#111111\",\n",
    "\"linecolor\" : \"#FFFFFF\",\n",
    "\"textcolor\": \"#FFFFFF\",\n",
    "\"gatetextcolor\": \"#FFFFFF\" }"
   ]
  },
  {
   "cell_type": "code",
   "execution_count": 3,
   "id": "67542826-6728-4143-b120-b46492ac2147",
   "metadata": {},
   "outputs": [],
   "source": [
    "from qiskit_ibm_runtime import QiskitRuntimeService\n",
    " \n",
    "service = QiskitRuntimeService(channel=\"ibm_quantum\", token=\"f58f42d85021cfb16a7674da14445e2ac7522ded0081c841dc9a136dfb352cbf416cf00f4988292d7fa182e2029535db74f617df0aeaf9dde978ada62774f469\")"
   ]
  },
  {
   "cell_type": "markdown",
   "id": "b8edfdbc-c84f-4eb8-b6cf-a0cbf164590b",
   "metadata": {},
   "source": [
    "$$\\newcommand{\\ket}[1]{\\left|{#1}\\right\\rangle}$$\n",
    "$$\\newcommand{\\bra}[1]{\\left\\langle{#1}\\right|}$$\n",
    "$$\\newcommand{\\braket}[2]{\\left\\langle{#1}\\middle|{#2}\\right\\rangle}$$\n",
    "$$\\newcommand{\\swch}[3]{\\left\\langle{#1}\\middle| #2 \\middle| {#3}\\right\\rangle}$$\n",
    "\n",
    "$$\\newcommand{\\v}[2]{\\begin{pmatrix} {#1} \\\\ #2 \\end{pmatrix}}$$"
   ]
  },
  {
   "cell_type": "markdown",
   "id": "e70e3e3d-e787-411a-b9e9-db8575c536c5",
   "metadata": {},
   "source": [
    "# VQE - Teorie"
   ]
  },
  {
   "cell_type": "markdown",
   "id": "baeef490-96ea-411e-aaa6-8cdc0f41da80",
   "metadata": {},
   "source": [
    "## Měření v Bázi"
   ]
  },
  {
   "cell_type": "markdown",
   "id": "2e264134-63d2-43a5-8a61-62ff4c6017a7",
   "metadata": {},
   "source": [
    "Měření obvykle probíhá v určité bázi. Často využívaná báze je tzv. standardní báze:"
   ]
  },
  {
   "cell_type": "markdown",
   "id": "fd081703-4f05-4d88-9c35-3bbddf8b5188",
   "metadata": {},
   "source": [
    "$$\\ket{0} = \\v{1}{0}, \\quad \\ket{1} = \\v{0}{1}, \\quad \\ket{\\psi} = a \\ket{0} + b \\ket{1} $$"
   ]
  },
  {
   "cell_type": "markdown",
   "id": "cc3b6363-6207-432f-ae22-4aaabec2ac55",
   "metadata": {},
   "source": [
    "Tato báze je mj. tvořena vlastními vektory $\\sigma_z$. Měření v bázi odpovídá užití projektorů na podprostor daného bazického vektoru. Tedy měření ve standardní bázi je ekvivalentní užívání projektorů $P_0 = \\ket{0}\\bra{0}$ a $P_1 = \\ket{1}\\bra{1}$. "
   ]
  },
  {
   "cell_type": "markdown",
   "id": "4ce55e88-9894-4c6e-8e43-b8b0d8455a1a",
   "metadata": {},
   "source": [
    "Pozorovatelné odpovídají Hermitovským operátorům. Jsou tedy diagonalizovatelné a jejich vlastní vektory tvoří kompletní bázi. Měření v bázi, ve které je hermitovský operátor (pozorovatelné) $H$ diagonální (vlastní/přirozená báze) odpovídá měření ve standardní bázi. Abychom tedy mohli provádět měření (ve std. bázi) musíme pozorovatelné diagonalizovat. To lze provést transformací stavu před měřením. "
   ]
  },
  {
   "cell_type": "markdown",
   "id": "0ea0e920-aca1-4563-b274-897732eca183",
   "metadata": {},
   "source": [
    "$$\n",
    "\\begin{align}\n",
    "\\swch{\\psi}{H}{\\psi} & = \\swch{\\psi}{X^\\dagger VX}{\\psi} \\\\\n",
    "  & = \n",
    "\\end{align}\n",
    "$$"
   ]
  },
  {
   "cell_type": "markdown",
   "id": "30f15c0b-301b-46e8-a71f-b6aad7411de8",
   "metadata": {},
   "source": [
    "Měření pozorovatelné $H$ na stavu $\\ket{\\psi}$ tedy odpovídá měření pozorovatelné $H$ ve stavu $X\\ket{\\psi}$ **ve standardní bázi**, tj užití operátorů $P_0 = \\ket{0}\\bra{0}$ a $P_1 = \\ket{1}\\bra{1}$."
   ]
  },
  {
   "cell_type": "markdown",
   "id": "a51a922e-60b6-42ad-8b15-eb6bafa48082",
   "metadata": {},
   "source": [
    "Na problém měření lze také nahlédnout alternativně. Máme-li pozorovatelnou (obvod), pak můžeme měřit pouze vlastní stavy či jejich superpozici (respektive projekci na některý z těchto stavů, do kterého nám následně systém zkolabuje). Abychom mohli tedy měřit v jiné bázi, než v bázi vlastní daného obvodu, musíme obvod modifikovat tak, aby vlastní stavy určitým způsobem korespondovaly s naší měřící bazí. Tedy chceme, aby projekční měření modifikovaného obvodu na jednotlivé vektory zvolené měřící báze odpovídalo projekčnímu měření nemodifikovaného obvodu na jeho vlastní stavy."
   ]
  },
  {
   "cell_type": "markdown",
   "id": "763cb274-039c-4ea9-8826-b08d605c7ca5",
   "metadata": {},
   "source": [
    "Toho lze docílit snadno tak, že do obvodu přidáme jakousi \"měřící část\", která mapuje vlastní stavy obvodu na vektory měřící báze. Tento přidaný měřící obvod odpovídá inverzi obvodu, který z měřící báze vytvoří vlastní stavy"
   ]
  },
  {
   "cell_type": "markdown",
   "id": "0e55de8d-235e-4263-b5e2-8ad737be1f4f",
   "metadata": {},
   "source": [
    "Často také říkáme, že pro měření provedeme rotaci do Z báze. Z báze představuje standartní bázi (vl. vektory $\\sigma_z$)."
   ]
  },
  {
   "cell_type": "markdown",
   "id": "aada8a7e-a3b0-4818-a927-2d725055af47",
   "metadata": {},
   "source": [
    "### Příklad (měření x v x-bázi)"
   ]
  },
  {
   "cell_type": "code",
   "execution_count": 93,
   "id": "5d9f647d-4a0c-42a4-ab8c-fe30eea117ac",
   "metadata": {},
   "outputs": [
    {
     "data": {
      "image/png": "[encoded data removed]",
      "text/plain": [
       "<Figure size 413.165x200.667 with 1 Axes>"
      ]
     },
     "execution_count": 93,
     "metadata": {},
     "output_type": "execute_result"
    }
   ],
   "source": [
    "qc_1 = QuantumCircuit(1)\n",
    "qc_1.x(0)\n",
    "qc_1.measure_all()\n",
    "qc_1.draw('mpl', style = my_style)"
   ]
  },
  {
   "cell_type": "code",
   "execution_count": 94,
   "id": "cda6058c-e5c6-4e84-9e95-1ffba532ef62",
   "metadata": {},
   "outputs": [
    {
     "data": {
      "text/plain": [
       "[{1: 1.0}]"
      ]
     },
     "execution_count": 94,
     "metadata": {},
     "output_type": "execute_result"
    }
   ],
   "source": [
    "sampler = Sampler()\n",
    "job_1 = sampler.run(qc_1)\n",
    "job_1.result().quasi_dists"
   ]
  },
  {
   "cell_type": "markdown",
   "id": "04db967a-7bb2-4d45-a3af-f2fdb2f7d419",
   "metadata": {},
   "source": [
    "Provedeme rotaci do X báze. Tato báze je tvořena vektory $\\ket{+}$ a $\\ket{-}$, kzeré lze ze standardní báze $\\ket{0}$, $\\ket{1}$ získat aplikací Hadamardova operátoru H. Rotaci do X báze tedy provedeme aplikací inverzního operátoru H$^{-1}$= H"
   ]
  },
  {
   "cell_type": "code",
   "execution_count": 95,
   "id": "66bc869c-7e7c-409f-82a8-169e53b4c13e",
   "metadata": {},
   "outputs": [
    {
     "data": {
      "image/png": "[encoded data removed]",
      "text/plain": [
       "<Figure size 496.776x200.667 with 1 Axes>"
      ]
     },
     "execution_count": 95,
     "metadata": {},
     "output_type": "execute_result"
    }
   ],
   "source": [
    "qc_1.remove_final_measurements()\n",
    "qc_1.h(0)\n",
    "qc_1.measure_all()\n",
    "qc_1.draw('mpl', style = my_style)"
   ]
  },
  {
   "cell_type": "code",
   "execution_count": 96,
   "id": "ce27d70b-444c-4233-b545-3ab84c43cc2c",
   "metadata": {},
   "outputs": [
    {
     "data": {
      "text/plain": [
       "[{0: 0.5, 1: 0.5}]"
      ]
     },
     "execution_count": 96,
     "metadata": {},
     "output_type": "execute_result"
    }
   ],
   "source": [
    "sampler = Sampler()\n",
    "job_1 = sampler.run(qc_1)\n",
    "job_1.result().quasi_dists"
   ]
  },
  {
   "cell_type": "markdown",
   "id": "f522edab-4acc-4803-a683-231694184222",
   "metadata": {},
   "source": [
    "Měříme v X bázi a tedy výsledný vektor má tvar $\\tfrac{1}{2}\\ket{+} - \\tfrac{1}{2}\\ket{-}$ = $\\ket{1}$"
   ]
  },
  {
   "cell_type": "markdown",
   "id": "72905203-1dd7-4fb5-8946-55a6ab1c3a6a",
   "metadata": {},
   "source": [
    "### Příklad (měření v bellově bázi)"
   ]
  },
  {
   "cell_type": "markdown",
   "id": "0fa0fe2b-5e42-40e8-abee-77970d9a5012",
   "metadata": {},
   "source": [
    "Chceme provádět měření v bellově bází $\\ket{\\psi^{ij}}$:"
   ]
  },
  {
   "cell_type": "markdown",
   "id": "7dc60204-e792-4455-b38d-4321c53620a5",
   "metadata": {},
   "source": [
    "$$ \\ket{\\psi^{00}} = \\tfrac{1}{\\sqrt{2}}(\\ket{00}+\\ket{11}) $$\n",
    "$$ \\ket{\\psi^{01}} = \\tfrac{1}{\\sqrt{2}}(\\ket{01}+\\ket{10}) $$\n",
    "$$ \\ket{\\psi^{10}} = \\tfrac{1}{\\sqrt{2}}(\\ket{00}+\\ket{11}) $$\n",
    "$$ \\ket{\\psi^{11}} = \\tfrac{1}{\\sqrt{2}}(\\ket{01}-\\ket{10}) $$"
   ]
  },
  {
   "cell_type": "markdown",
   "id": "7ea78282-2b9d-497d-9837-b63b9381db0c",
   "metadata": {},
   "source": [
    "Tyto stavy lze z standartní báze ($\\ket{00}$, $\\ket{01}$, $\\ket{10}$, $\\ket{11}$) vytvořit následujícím obvodem:"
   ]
  },
  {
   "cell_type": "code",
   "execution_count": 46,
   "id": "5596fc88-fc9d-45dc-82ee-84e9afef3f17",
   "metadata": {},
   "outputs": [
    {
     "data": {
      "image/png": "[encoded data removed]",
      "text/plain": [
       "<Figure size 287.294x200.667 with 1 Axes>"
      ]
     },
     "execution_count": 46,
     "metadata": {},
     "output_type": "execute_result"
    }
   ],
   "source": [
    "bellcircuit = QuantumCircuit(2)\n",
    "bellcircuit.h(0)\n",
    "bellcircuit.cx(0,1)\n",
    "bellcircuit.draw(\"mpl\", style=my_style)"
   ]
  },
  {
   "cell_type": "code",
   "execution_count": 27,
   "id": "8d68cb39-cce7-4392-aae3-1df5e2485949",
   "metadata": {},
   "outputs": [
    {
     "data": {
      "text/latex": [
       "$$\n",
       "\n",
       "\\begin{bmatrix}\n",
       "\\frac{\\sqrt{2}}{2} & \\frac{\\sqrt{2}}{2} & 0 & 0  \\\\\n",
       " 0 & 0 & \\frac{\\sqrt{2}}{2} & - \\frac{\\sqrt{2}}{2}  \\\\\n",
       " 0 & 0 & \\frac{\\sqrt{2}}{2} & \\frac{\\sqrt{2}}{2}  \\\\\n",
       " \\frac{\\sqrt{2}}{2} & - \\frac{\\sqrt{2}}{2} & 0 & 0  \\\\\n",
       " \\end{bmatrix}\n",
       "$$"
      ],
      "text/plain": [
       "<IPython.core.display.Latex object>"
      ]
     },
     "execution_count": 27,
     "metadata": {},
     "output_type": "execute_result"
    }
   ],
   "source": [
    "bell_op = Operator(bellcircuit)\n",
    "#array_to_latex(bell_op)\n",
    "bell_op.draw(\"latex\")"
   ]
  },
  {
   "cell_type": "code",
   "execution_count": 51,
   "id": "25fd8cbe-84bc-4f5e-b811-989301daf50f",
   "metadata": {},
   "outputs": [
    {
     "data": {
      "text/latex": [
       "$$\\frac{\\sqrt{2}}{2} |00\\rangle+\\frac{\\sqrt{2}}{2} |11\\rangle$$"
      ],
      "text/plain": [
       "<IPython.core.display.Latex object>"
      ]
     },
     "execution_count": 51,
     "metadata": {},
     "output_type": "execute_result"
    }
   ],
   "source": [
    "simulator = Aer.get_backend(\"statevector_simulator\")\n",
    "result = simulator.run(bellcircuit).result()\n",
    "statevector = result.get_statevector(bellcircuit)\n",
    "statevector.draw('latex')"
   ]
  },
  {
   "cell_type": "markdown",
   "id": "7fa91b0c-3416-47b4-894c-bd53cadffab3",
   "metadata": {},
   "source": [
    "Inverzí obvodu získáme obvod pro měření v bellově bázi:"
   ]
  },
  {
   "cell_type": "code",
   "execution_count": 76,
   "id": "0b1330c9-9dcb-4a68-aaf8-8233f0ac5008",
   "metadata": {},
   "outputs": [
    {
     "data": {
      "image/png": "[encoded data removed]",
      "text/plain": [
       "<Figure size 538.128x284.278 with 1 Axes>"
      ]
     },
     "execution_count": 76,
     "metadata": {},
     "output_type": "execute_result"
    }
   ],
   "source": [
    "bellmeasure = QuantumCircuit(2,2)\n",
    "bellmeasure.cx(0,1)\n",
    "bellmeasure.h(0)\n",
    "bellmeasure.barrier()\n",
    "bellmeasure.measure(1,1)\n",
    "bellmeasure.measure(0,0)\n",
    "bellmeasure.draw(\"mpl\", style = my_style)"
   ]
  },
  {
   "cell_type": "code",
   "execution_count": 81,
   "id": "59e8ba38-4d83-44a2-9c55-d4a4d56da77a",
   "metadata": {},
   "outputs": [
    {
     "name": "stdout",
     "output_type": "stream",
     "text": [
      "{'00': 523, '01': 501}\n"
     ]
    }
   ],
   "source": [
    "simulator = Aer.get_backend('qasm_simulator')\n",
    "result = simulator.run(bellmeasure).result()\n",
    "counts = result.get_counts(bellmeasure)\n",
    "print(counts)"
   ]
  },
  {
   "cell_type": "markdown",
   "id": "bf92040b-d906-47d4-8768-6060588ffddb",
   "metadata": {},
   "source": [
    "V tomto obvodu provádíme měření ve standartní bázi. Každý Bellův stav na vstupu obvodu odpovídá jednomu vektoru standartní báze."
   ]
  },
  {
   "cell_type": "markdown",
   "id": "d3e5fc4d-9d97-4d8d-a62c-19dc69cbb124",
   "metadata": {},
   "source": [
    "### Measure in Pauli bases\r\n"
   ]
  },
  {
   "cell_type": "markdown",
   "id": "d210cbf7-1113-4684-a451-ff51b9a5255e",
   "metadata": {},
   "source": [
    "A measurement projects the qubit state to the computational basis \n",
    "{\n",
    "∣\n",
    "0\n",
    "⟩\n",
    ",\n",
    "∣\n",
    "1\n",
    "⟩\n",
    "}\n",
    "{∣0⟩,∣1⟩}. This implies that you can only measure observables that are diagonal in this basis, such as Paulis consisting only of \n",
    "𝐼\n",
    "I and \n",
    "𝑍\n",
    "Z terms. Measuring arbitrary Pauli terms therefore requires a change of basis to diagonalize them. To do this, perform the following transformations, "
   ]
  },
  {
   "cell_type": "markdown",
   "id": "12bfebce-86b4-4ce2-895a-e059dfa4fe25",
   "metadata": {},
   "source": [
    "$$\n",
    "\\begin{align}\n",
    "X \\rightarrow Z & = HXH \\\\\n",
    "Y \\rightarrow Z & = HS^*YSH\n",
    "\\end{align}\n",
    "$$"
   ]
  },
  {
   "cell_type": "markdown",
   "id": "b2b56fe6-a3c8-44e2-a253-b7efbfb3223c",
   "metadata": {},
   "source": [
    "where H is tha Hadamard gate and $S = \\sqrt{Z}$ is sometimes referred to as the phase gate. If you are using an Estimator to compute expectation values, the basis transformations are automatically performed.\r\n",
    "\r\n",
    "Below is an example demonstrating how to prepare a quantum circuit and manually measure the qubit 0 in the X basis, qubit 1 in the Y basis and qubit 2 in the Z basis. We apply the transformations shown in the previous equation and obtain the following circuit:"
   ]
  },
  {
   "cell_type": "code",
   "execution_count": 4,
   "id": "23ea486f-b80c-4adc-ae0a-31a197bc1853",
   "metadata": {},
   "outputs": [
    {
     "data": {
      "image/png": "[encoded data removed]",
      "text/plain": [
       "<Figure size 998.442x367.889 with 1 Axes>"
      ]
     },
     "execution_count": 4,
     "metadata": {},
     "output_type": "execute_result"
    }
   ],
   "source": [
    "from qiskit.circuit import QuantumCircuit\n",
    " \n",
    "# create a circuit, where we would like to measure\n",
    "# q0 in the X basis, q1 in the Y basis and q2 in the Z basis\n",
    "circuit = QuantumCircuit(3)\n",
    "circuit.ry(0.8, 0)\n",
    "circuit.cx(0, 1)\n",
    "circuit.cx(1, 2)\n",
    "circuit.barrier()\n",
    " \n",
    "# diagonalize X with the Hadamard gate \n",
    "circuit.h(0)\n",
    " \n",
    "# diagonalize Y with Hadamard as S^\\dagger\n",
    "circuit.h(1)\n",
    "circuit.sdg(1)\n",
    " \n",
    "# the Z basis is the default, no action required here\n",
    " \n",
    "# measure all qubits\n",
    "circuit.measure_all()\n",
    "circuit.draw(\"mpl\", style = my_style)"
   ]
  },
  {
   "cell_type": "markdown",
   "id": "3af2dcfc-ec61-4727-b967-78ab522c0c42",
   "metadata": {
    "jp-MarkdownHeadingCollapsed": true
   },
   "source": [
    "## Pauliho matice"
   ]
  },
  {
   "cell_type": "markdown",
   "id": "c960dde1-6a6f-41e0-93e0-0835d49f7f43",
   "metadata": {},
   "source": [
    "Pro účely kvantových obvodů je užitečné (v mnoha případech i nezbytné) vyjádřit pozorovatelné pomocí tzv. Pauliho operátorů (matic). Pomocí těchto matic dokážeme vyjádřit libovolnou pozorovatelnou, a navíc pro ně známe transformační matice $X$. "
   ]
  },
  {
   "cell_type": "markdown",
   "id": "8058a268-8ab3-44c5-ab80-a87b03d312e6",
   "metadata": {},
   "source": [
    "$$\n",
    "\\sigma_x =\n",
    "\\begin{pmatrix}0&1\\\\1&0\\end{pmatrix}, \\quad\n",
    "\\sigma_y =\n",
    "\\begin{pmatrix}0&-i\\\\i&0\\end{pmatrix}, \\quad\n",
    "\\sigma_z =\n",
    "\\begin{pmatrix}1&0\\\\0&-1\\end{pmatrix} \n",
    "$$"
   ]
  },
  {
   "cell_type": "markdown",
   "id": "6d07f26f-918d-460e-8256-ee6d628fcc4e",
   "metadata": {},
   "source": [
    "Pauliho matice tvoří spolu s jednotkovou maticí bázi prostoru všech pozorovatelných pro jeden qbit. Jejich tenzorovým součinem lze dostat libovolnou pozorovatelnou pro více qbitů. "
   ]
  },
  {
   "cell_type": "markdown",
   "id": "6e5e9f74-e3c2-4624-bea0-ab547973e7b2",
   "metadata": {},
   "source": [
    "Pozorovatelné dané Pauliho maticemi jsme schopni snadno měřit ve standardní bázi, jelikož známe diagonalizační matice."
   ]
  },
  {
   "cell_type": "markdown",
   "id": "59f11727-4cd2-4060-a904-051eaad84549",
   "metadata": {
    "jp-MarkdownHeadingCollapsed": true
   },
   "source": [
    "### $\\sigma_z$"
   ]
  },
  {
   "cell_type": "code",
   "execution_count": 3,
   "id": "dca6f093-bcc2-491d-9ebd-2a8b652fefb2",
   "metadata": {},
   "outputs": [
    {
     "data": {
      "image/png": "[encoded data removed]",
      "text/plain": [
       "<Figure size 185.453x200.667 with 1 Axes>"
      ]
     },
     "execution_count": 3,
     "metadata": {},
     "output_type": "execute_result"
    }
   ],
   "source": [
    "circuit = QuantumCircuit(1,1)\n",
    "circuit.measure(0,0)\n",
    "circuit.draw(\"mpl\", style=my_style)"
   ]
  },
  {
   "cell_type": "markdown",
   "id": "bbaf3861-441d-4516-9509-84581fec4e15",
   "metadata": {
    "jp-MarkdownHeadingCollapsed": true
   },
   "source": [
    "### $\\sigma_y$"
   ]
  },
  {
   "cell_type": "code",
   "execution_count": 4,
   "id": "d34731b6-f605-4812-8c57-c4f0fa548b01",
   "metadata": {},
   "outputs": [
    {
     "data": {
      "image/png": "[encoded data removed]",
      "text/plain": [
       "<Figure size 269.064x200.667 with 1 Axes>"
      ]
     },
     "execution_count": 4,
     "metadata": {},
     "output_type": "execute_result"
    }
   ],
   "source": [
    "circuit = QuantumCircuit(1,1)\n",
    "circuit.h(0)\n",
    "circuit.measure(0,0)\n",
    "circuit.draw(\"mpl\", style=my_style)"
   ]
  },
  {
   "cell_type": "markdown",
   "id": "1b68f516-f2c4-436a-b751-3dd903f03077",
   "metadata": {
    "jp-MarkdownHeadingCollapsed": true
   },
   "source": [
    "### $\\sigma_x$"
   ]
  },
  {
   "cell_type": "code",
   "execution_count": 5,
   "id": "86649104-31c4-472a-876c-959b796053f4",
   "metadata": {},
   "outputs": [
    {
     "data": {
      "image/png": "[encoded data removed]",
      "text/plain": [
       "<Figure size 352.675x200.667 with 1 Axes>"
      ]
     },
     "execution_count": 5,
     "metadata": {},
     "output_type": "execute_result"
    }
   ],
   "source": [
    "circuit = QuantumCircuit(1,1)\n",
    "circuit.sdg(0)\n",
    "circuit.h(0)\n",
    "circuit.measure(0,0)\n",
    "\n",
    "circuit.draw(\"mpl\", style=my_style)"
   ]
  },
  {
   "cell_type": "markdown",
   "id": "506e7b39-314e-4601-a4db-666d85cba3f0",
   "metadata": {
    "jp-MarkdownHeadingCollapsed": true
   },
   "source": [
    "## Variační teorém"
   ]
  },
  {
   "cell_type": "markdown",
   "id": "6bf0e77b-cca2-4697-b911-d615c1a64e53",
   "metadata": {},
   "source": [
    "In quantum mechanics, energy comes in the form of a quantum observable usually referred to as the _Hamiltonian_, which we'll denote by $\\hat{\\mathcal{H}}$. Let us consider its [spectral decomposition](gloss:decomposition): \n",
    "\n",
    "$$\n",
    "\\hat{\\mathcal{H}} = \\sum_{k=0}^{N-1} \\lambda_k |\\phi_k\\rangle \\langle \\phi_k|\n",
    "$$\n",
    "\n",
    "where $N$ is the dimensionality of the space of states, $\\lambda_{k}$ is the $k$-th eigenvalue or, physically, the $k$-th energy level, and $|\\phi_k\\rangle$ is the corresponding [eigenstate](gloss:eigenstate): $\\hat{\\mathcal{H}}|\\phi_k\\rangle = \\lambda_k |\\phi_k\\rangle$, the expected energy of a system in the (normalized) state $|\\psi\\rangle$ will be:"
   ]
  },
  {
   "cell_type": "markdown",
   "id": "33b44ff2-b20d-4159-af94-43b2280252dd",
   "metadata": {},
   "source": [
    "$$\n",
    "\\begin{aligned}\n",
    "\\langle \\psi | \\hat{\\mathcal{H}} | \\psi \\rangle\n",
    "& = \\langle \\psi |\\bigg(\\sum_{k=0}^{N-1} \\lambda_k |\\phi_k\\rangle \\langle \\phi_k|\\bigg) | \\psi \\rangle \\\\[1mm]\n",
    "& = \\sum_{k=0}^{N-1} \\lambda_k \\langle \\psi |\\phi_k\\rangle \\langle \\phi_k| \\psi \\rangle \\\\[1mm]\n",
    "& = \\sum_{k=0}^{N-1} \\lambda_k |\\langle \\psi |\\phi_k\\rangle|^2 \\\\[1mm]\n",
    "\\end{aligned}\n",
    "$$\n"
   ]
  },
  {
   "cell_type": "markdown",
   "id": "8dda997f-cada-45df-97a0-b852e7d59cc3",
   "metadata": {},
   "source": [
    "If we take into account that $\\lambda_0\\leq \\lambda_k, \\forall k$, we have:\n",
    "\n",
    "$$\n",
    "\\begin{aligned}\n",
    "\\langle \\psi | \\hat{\\mathcal{H}} | \\psi \\rangle\n",
    "& = \\sum_{k=0}^{N-1} \\lambda_k |\\langle \\psi |\\phi_k\\rangle|^2 \\\\[1mm]\n",
    "& \\geq  \\sum_{k=0}^{N-1} \\lambda_0 |\\langle \\psi |\\phi_k\\rangle|^2 \\\\[1mm]\n",
    "& = \\lambda_0 \\sum_{k=0}^{N-1} |\\langle \\psi |\\phi_k\\rangle|^2 \\\\[1mm]\n",
    "& = \\lambda_0 \\\\[1mm]\n",
    "\\end{aligned}\n",
    "$$"
   ]
  },
  {
   "cell_type": "markdown",
   "id": "4cb6de1c-7e4e-405a-84ac-d7ee28a72766",
   "metadata": {},
   "source": [
    "Tudíž pro libovolný stav $\\ket{\\psi}$ platí:\n",
    "$$\n",
    "\\langle \\psi | \\hat{\\mathcal{H}} | \\psi \\rangle \\geq \\lambda_0.\n",
    "$$"
   ]
  },
  {
   "cell_type": "markdown",
   "id": "8074b689-d190-440f-8754-ffad531fb93e",
   "metadata": {},
   "source": [
    "Hledání základního stavu $\\hat{\\mathcal{H}}$ s vlastním číslem $\\lambda_0$ můžeme tedy převést na optimalizační úlohu:\n",
    "$$\n",
    "\\min_{\\vec\\theta} C(\\vec\\theta) = \n",
    "\\min_{\\vec\\theta} \\langle \\psi(\\vec\\theta)|\\hat{\\mathcal{H}}|\\psi(\\vec\\theta)\\rangle \\geq \\lambda_0.\n",
    "$$"
   ]
  },
  {
   "cell_type": "markdown",
   "id": "11305028-3ce2-4270-a013-088db45e5d4d",
   "metadata": {
    "jp-MarkdownHeadingCollapsed": true
   },
   "source": [
    "## VQE"
   ]
  },
  {
   "cell_type": "markdown",
   "id": "161910c7-678f-415e-94f2-17c636a65f73",
   "metadata": {},
   "source": [
    "Chceme najít stav $\\ket{\\psi}$ hamiltoniánu $H$, který co nejlépe aproximuje základní vlastní stav $\\ket{\\psi_0}$ odpovídající vlastní hodnotě $\\lambda_0$. Stav $\\ket{\\psi}$ parametrizujeme vektorem parametrů $\\vec\\theta$, tyto parametry budeme optimalizovat do té doby, než se dostatečně přiblížíme základnímu stavu."
   ]
  },
  {
   "cell_type": "markdown",
   "id": "d10acb12-f2f4-4341-b9a2-d2d55c7539e7",
   "metadata": {},
   "source": [
    "Minimalizujeme tedy funkci $C(\\vec\\theta) = \\swch{\\psi(\\vec \\theta)}{H}{\\psi(\\vec \\theta)}$ optimalizací $\\vec \\theta$, tato funkce bývá často nazývána cost function. (Váhová funkce?)\n",
    "\n",
    "Stav $\\ket{\\psi(\\vec \\theta)}$ s fixním $\\vec \\theta$ nazýváme ansatz."
   ]
  },
  {
   "cell_type": "markdown",
   "id": "a4d15fb5-ba14-4717-8cd7-1638c0ec2767",
   "metadata": {},
   "source": [
    "![image](VQE_diagram.png)"
   ]
  },
  {
   "cell_type": "markdown",
   "id": "03cd10f5-a7a6-4e88-8554-3b84fb8e84e3",
   "metadata": {},
   "source": [
    "![graph of f(theta) against theta, multiple dots show different states of a gradient descent algorithm finding the minimum of a curve.](optimization_gradient_descent.png)"
   ]
  },
  {
   "cell_type": "markdown",
   "id": "cd6fe795-104e-4a2d-b6e0-9df06075ee98",
   "metadata": {},
   "source": [
    "## Reprezentace Hamiltoniánu"
   ]
  },
  {
   "cell_type": "markdown",
   "id": "2885bc57-be47-4878-be38-023a1ca363ba",
   "metadata": {},
   "source": [
    "# VQE - Implementace"
   ]
  },
  {
   "cell_type": "code",
   "execution_count": null,
   "id": "21ec3ede-fd43-48d4-9376-d1fa6b137b8d",
   "metadata": {},
   "outputs": [],
   "source": []
  }
 ],
 "metadata": {
  "kernelspec": {
   "display_name": "Python 3 (ipykernel)",
   "language": "python",
   "name": "python3"
  },
  "language_info": {
   "codemirror_mode": {
    "name": "ipython",
    "version": 3
   },
   "file_extension": ".py",
   "mimetype": "text/x-python",
   "name": "python",
   "nbconvert_exporter": "python",
   "pygments_lexer": "ipython3",
   "version": "3.11.6"
  }
 },
 "nbformat": 4,
 "nbformat_minor": 5
}
