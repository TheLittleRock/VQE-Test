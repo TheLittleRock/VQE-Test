{
 "cells": [
  {
   "cell_type": "markdown",
   "id": "e7160f69-789f-44bc-9200-2317a7ac5a5e",
   "metadata": {},
   "source": [
    "# Definice a importy"
   ]
  },
  {
   "cell_type": "markdown",
   "id": "b567ae79-0d84-4be1-9a7c-9d9bf82f1734",
   "metadata": {},
   "source": [
    "$$\\newcommand{\\ket}[1]{\\left|{#1}\\right\\rangle}$$\n",
    "$$\\newcommand{\\bra}[1]{\\left\\langle{#1}\\right|}$$\n",
    "\n",
    "$$\\bra{\\Psi}\\Omega\\ket{\\Psi}$$\n"
   ]
  },
  {
   "cell_type": "markdown",
   "id": "9193b0ab-5cc2-43aa-9e2e-e186a9e62ce8",
   "metadata": {},
   "source": [
    "$$\\newcommand{\\braket}[2]{\\left\\langle{#1}\\middle|{#2}\\right\\rangle}$$\n",
    "$$\\braket{\\Psi}{\\Psi}$$\n",
    "\n",
    "\n",
    "$$\\braket{\\frac{\\Psi}{2}}{\\Psi}$$"
   ]
  },
  {
   "cell_type": "code",
   "execution_count": null,
   "id": "b0ee0c11-9a06-4632-ba41-a644f6d58037",
   "metadata": {},
   "outputs": [],
   "source": [
    "import numpy as np\n",
    "import matplotlib.pyplot as plt\n",
    "from tabulate import tabulate\n",
    "import matplotlib"
   ]
  },
  {
   "cell_type": "code",
   "execution_count": null,
   "id": "5be31276-8bb5-4538-8d75-4800bc8b34ed",
   "metadata": {},
   "outputs": [],
   "source": []
  },
  {
   "cell_type": "markdown",
   "id": "1771124e-03c4-4862-bfc1-79031a876b0d",
   "metadata": {},
   "source": [
    "# Qskit test "
   ]
  },
  {
   "cell_type": "code",
   "execution_count": null,
   "id": "db6c06f3-c73f-4534-8472-de68a97a81fb",
   "metadata": {},
   "outputs": [],
   "source": []
  },
  {
   "cell_type": "code",
   "execution_count": null,
   "id": "8df70c28-b5a0-434d-accd-1b72daeeb331",
   "metadata": {},
   "outputs": [],
   "source": []
  },
  {
   "cell_type": "code",
   "execution_count": null,
   "id": "d12a4011-2be9-4588-85c5-3a4efdb39cb8",
   "metadata": {},
   "outputs": [],
   "source": []
  }
 ],
 "metadata": {
  "kernelspec": {
   "display_name": "Python 3 (ipykernel)",
   "language": "python",
   "name": "python3"
  },
  "language_info": {
   "codemirror_mode": {
    "name": "ipython",
    "version": 3
   },
   "file_extension": ".py",
   "mimetype": "text/x-python",
   "name": "python",
   "nbconvert_exporter": "python",
   "pygments_lexer": "ipython3",
   "version": "3.11.6"
  }
 },
 "nbformat": 4,
 "nbformat_minor": 5
}
