{
 "cells": [
  {
   "cell_type": "markdown",
   "id": "e7160f69-789f-44bc-9200-2317a7ac5a5e",
   "metadata": {},
   "source": [
    "# Definice a importy"
   ]
  },
  {
   "cell_type": "markdown",
   "id": "b567ae79-0d84-4be1-9a7c-9d9bf82f1734",
   "metadata": {},
   "source": [
    "$$\\newcommand{\\ket}[1]{\\left|{#1}\\right\\rangle}$$\n",
    "$$\\newcommand{\\bra}[1]{\\left\\langle{#1}\\right|}$$\n",
    "\n",
    "$$\\bra{\\Psi}\\Omega\\ket{\\Psi}$$\n"
   ]
  },
  {
   "cell_type": "markdown",
   "id": "9193b0ab-5cc2-43aa-9e2e-e186a9e62ce8",
   "metadata": {},
   "source": [
    "$$\\newcommand{\\braket}[2]{\\left\\langle{#1}\\middle|{#2}\\right\\rangle}$$\n",
    "$$\\braket{\\Psi}{\\Psi}$$\n",
    "\n",
    "\n",
    "$$\\braket{\\frac{\\Psi}{2}}{\\Psi}$$"
   ]
  },
  {
   "cell_type": "code",
   "execution_count": 1,
   "id": "b0ee0c11-9a06-4632-ba41-a644f6d58037",
   "metadata": {},
   "outputs": [],
   "source": [
    "import numpy as np\n",
    "import matplotlib.pyplot as plt\n",
    "from tabulate import tabulate\n",
    "import matplotlib"
   ]
  },
  {
   "cell_type": "code",
   "execution_count": 2,
   "id": "5be31276-8bb5-4538-8d75-4800bc8b34ed",
   "metadata": {},
   "outputs": [],
   "source": [
    "plt.rcParams['text.latex.preamble']=r\"\\usepackage{mlmodern}\"\n",
    "plt.rcParams[\"text.usetex\"] = True\n",
    "plt.rcParams[\"font.size\"] = 11\n",
    "plt.rcParams[\"font.family\"] = 'mlmodern'\n",
    "#plt.rcParams[\"mathtext.fontset\"] = \"cm\""
   ]
  },
  {
   "cell_type": "code",
   "execution_count": 3,
   "id": "b79a375f-3025-4677-939a-a99c66c1a006",
   "metadata": {},
   "outputs": [
    {
     "name": "stdout",
     "output_type": "stream",
     "text": [
      "env: QXToken=deleteThisAndPasteYourTokenHere\n"
     ]
    }
   ],
   "source": [
    "%set_env QXToken=deleteThisAndPasteYourTokenHere"
   ]
  },
  {
   "cell_type": "code",
   "execution_count": 4,
   "id": "e50ef4ce-7779-4ba8-818c-49d529e1d4ab",
   "metadata": {},
   "outputs": [],
   "source": [
    "from typing import List, Callable\n",
    "from scipy.optimize import minimize\n",
    "from scipy.optimize._optimize import OptimizeResult\n",
    "\n",
    "from qiskit import QuantumCircuit\n",
    "from qiskit.quantum_info import Statevector, Operator, SparsePauliOp\n",
    "from qiskit.primitives import StatevectorSampler, PrimitiveJob\n",
    "from qiskit.circuit.library import TwoLocal\n",
    "from qiskit.transpiler.preset_passmanagers import generate_preset_pass_manager\n",
    "from qiskit.visualization import plot_histogram\n",
    "from qiskit_ibm_runtime.fake_provider import FakeSherbrooke\n",
    "from qiskit_ibm_runtime.fake_provider import FakeGeneva, FakeKyoto, FakeBrisbane, FakeOsaka\n",
    "from qiskit_ibm_runtime import Session, EstimatorV2 as Estimator\n",
    "from qiskit_ibm_runtime import SamplerV2 as Sampler\n",
    "from qiskit_aer import AerSimulator\n",
    "from qiskit_ibm_runtime import QiskitRuntimeService"
   ]
  },
  {
   "cell_type": "markdown",
   "id": "3176c0d7-bc9a-4424-b4b9-75ee38729a97",
   "metadata": {},
   "source": [
    "Usage: qc.draw('mpl', style = my_style)"
   ]
  },
  {
   "cell_type": "code",
   "execution_count": 5,
   "id": "e25ef53c-7622-46e4-a85a-6fb31bb0be9a",
   "metadata": {},
   "outputs": [],
   "source": [
    "my_style = {\n",
    "\"backgroundcolor\" : \"#111111\",\n",
    "\"linecolor\" : \"#FFFFFF\",\n",
    "\"textcolor\": \"#FFFFFF\",\n",
    "\"gatetextcolor\": \"#FFFFFF\" }"
   ]
  },
  {
   "cell_type": "code",
   "execution_count": 6,
   "id": "3019b5d9-1032-46c0-970d-e63e3ee3caff",
   "metadata": {},
   "outputs": [
    {
     "data": {
      "text/plain": [
       "'1.1.1'"
      ]
     },
     "execution_count": 6,
     "metadata": {},
     "output_type": "execute_result"
    }
   ],
   "source": [
    "import qiskit\n",
    "\n",
    "qiskit.__version__"
   ]
  },
  {
   "cell_type": "markdown",
   "id": "1771124e-03c4-4862-bfc1-79031a876b0d",
   "metadata": {},
   "source": [
    "# Qskit test "
   ]
  },
  {
   "cell_type": "markdown",
   "id": "c72be98c-f47e-4167-bcf0-6c725c24aa9d",
   "metadata": {
    "jp-MarkdownHeadingCollapsed": true
   },
   "source": [
    "## Statevector"
   ]
  },
  {
   "cell_type": "code",
   "execution_count": 41,
   "id": "db6c06f3-c73f-4534-8472-de68a97a81fb",
   "metadata": {},
   "outputs": [
    {
     "data": {
      "text/html": [
       "<pre style=\"word-wrap: normal;white-space: pre;background: #fff0;line-height: 1.1;font-family: &quot;Courier New&quot;,Courier,monospace\">        ┌───┐     ┌───┐ ░ ┌─┐   \n",
       "   q_0: ┤ H ├──■──┤ Z ├─░─┤M├───\n",
       "        └───┘┌─┴─┐├───┤ ░ └╥┘┌─┐\n",
       "   q_1: ─────┤ X ├┤ X ├─░──╫─┤M├\n",
       "             └───┘└───┘ ░  ║ └╥┘\n",
       "meas: 2/═══════════════════╩══╩═\n",
       "                           0  1 </pre>"
      ],
      "text/plain": [
       "        ┌───┐     ┌───┐ ░ ┌─┐   \n",
       "   q_0: ┤ H ├──■──┤ Z ├─░─┤M├───\n",
       "        └───┘┌─┴─┐├───┤ ░ └╥┘┌─┐\n",
       "   q_1: ─────┤ X ├┤ X ├─░──╫─┤M├\n",
       "             └───┘└───┘ ░  ║ └╥┘\n",
       "meas: 2/═══════════════════╩══╩═\n",
       "                           0  1 "
      ]
     },
     "execution_count": 41,
     "metadata": {},
     "output_type": "execute_result"
    }
   ],
   "source": [
    "qc = QuantumCircuit(2)\n",
    "\n",
    "qc.h(0)\n",
    "qc.cx(0, 1)\n",
    "qc.z(0)\n",
    "qc.x(1)\n",
    "\n",
    "### Don't change any code past this line ###\n",
    "qc.measure_all()\n",
    "qc.draw()"
   ]
  },
  {
   "cell_type": "code",
   "execution_count": 42,
   "id": "8df70c28-b5a0-434d-accd-1b72daeeb331",
   "metadata": {},
   "outputs": [
    {
     "data": {
      "image/png": "[encoded data removed]",
      "text/plain": [
       "<Figure size 663.998x284.278 with 1 Axes>"
      ]
     },
     "execution_count": 42,
     "metadata": {},
     "output_type": "execute_result"
    }
   ],
   "source": [
    "qc.draw('mpl', style = my_style)"
   ]
  },
  {
   "cell_type": "code",
   "execution_count": 43,
   "id": "d12a4011-2be9-4588-85c5-3a4efdb39cb8",
   "metadata": {},
   "outputs": [
    {
     "name": "stdout",
     "output_type": "stream",
     "text": [
      "{'01': 5057, '10': 4943}\n"
     ]
    }
   ],
   "source": [
    "sampler = StatevectorSampler()\n",
    "pub = (qc)\n",
    "job_sampler = sampler.run([pub], shots=10000)\n",
    "\n",
    "result_sampler = job_sampler.result()\n",
    "counts_sampler = result_sampler[0].data.meas.get_counts()\n",
    "\n",
    "print(counts_sampler)"
   ]
  },
  {
   "cell_type": "markdown",
   "id": "fb72be0a-c0ec-4e56-86a8-60f1bd3da3b5",
   "metadata": {},
   "source": [
    "## Sampler"
   ]
  },
  {
   "cell_type": "code",
   "execution_count": 7,
   "id": "98be9013-fa81-44f4-9787-366adb590a20",
   "metadata": {},
   "outputs": [
    {
     "data": {
      "image/png": "[encoded data removed]",
      "text/plain": [
       "<Figure size 580.387x284.278 with 1 Axes>"
      ]
     },
     "execution_count": 7,
     "metadata": {},
     "output_type": "execute_result"
    }
   ],
   "source": [
    "qc2 = QuantumCircuit(2)\n",
    "\n",
    "qc2.x(1)\n",
    "qc2.h(0)\n",
    "qc2.cx(0,1)\n",
    "qc2.measure_all()\n",
    "\n",
    "qc2.draw('mpl', style = my_style)"
   ]
  },
  {
   "cell_type": "code",
   "execution_count": 8,
   "id": "6f1d73d8-958f-4e95-a41a-c2492daf8826",
   "metadata": {},
   "outputs": [
    {
     "data": {
      "image/png": "[encoded data removed]",
      "text/plain": [
       "<Figure size 1194.12x284.278 with 1 Axes>"
      ]
     },
     "execution_count": 8,
     "metadata": {},
     "output_type": "execute_result"
    }
   ],
   "source": [
    "backend = FakeSherbrooke()\n",
    "#backend = AerSimulator()\n",
    "#backend = FakeGeneva()\n",
    "#backend = FakeKyoto()\n",
    "#backend = FakeBrisbane()\n",
    "#backend = FakeOsaka()\n",
    "\n",
    "backend_answer = backend\n",
    "optimization_level_answer = 2 \n",
    "pm = generate_preset_pass_manager(backend=backend_answer,optimization_level=optimization_level_answer)\n",
    "isa_circuit = pm.run(qc2) \n",
    "\n",
    "pub = (isa_circuit)\n",
    "\n",
    "isa_circuit.draw('mpl', idle_wires=False, style = my_style)"
   ]
  },
  {
   "cell_type": "code",
   "execution_count": 178,
   "id": "2d665442-e6ae-405b-a6c7-acad38228fd2",
   "metadata": {},
   "outputs": [
    {
     "name": "stdout",
     "output_type": "stream",
     "text": [
      "{'10': 5029, '01': 4831, '11': 59, '00': 81}\n"
     ]
    }
   ],
   "source": [
    "with Session(backend=backend) as session:\n",
    "    sampler = Sampler(mode=session)\n",
    "\n",
    "    result = sampler.run(pubs=[pub], shots=10000).result()\n",
    "    print(result[0].data.meas.get_counts())"
   ]
  },
  {
   "cell_type": "code",
   "execution_count": 179,
   "id": "a3acc1b0-c75e-4181-9ee4-0d1f5dedc83f",
   "metadata": {},
   "outputs": [
    {
     "name": "stdout",
     "output_type": "stream",
     "text": [
      "{'01': 4886, '10': 4973, '00': 73, '11': 68}\n"
     ]
    }
   ],
   "source": [
    "options = None #options = {\"simulator\": {\"seed_simulator\": 42}}\n",
    "sampler = Sampler(mode=backend, options=options)\n",
    " \n",
    "result = sampler.run(pubs=[pub], shots=10000).result()\n",
    "print(result[0].data.meas.get_counts())"
   ]
  },
  {
   "cell_type": "code",
   "execution_count": 9,
   "id": "a7d6a3d0-4c80-476b-b724-11ad11807aa6",
   "metadata": {},
   "outputs": [
    {
     "name": "stdout",
     "output_type": "stream",
     "text": [
      "{'10': 4916, '01': 4935, '00': 83, '11': 66}\n"
     ]
    }
   ],
   "source": [
    "aer = AerSimulator.from_backend(backend)\n",
    "sampler = Sampler(mode=aer)\n",
    "\n",
    "result = sampler.run(pubs=[pub], shots=10000).result()\n",
    "print(result[0].data.meas.get_counts())"
   ]
  },
  {
   "cell_type": "code",
   "execution_count": 19,
   "id": "8bededb6-a781-45ef-83f9-e7fce4ae0e97",
   "metadata": {},
   "outputs": [
    {
     "name": "stdout",
     "output_type": "stream",
     "text": [
      "0.19775390625\n"
     ]
    }
   ],
   "source": [
    "aer = AerSimulator.from_backend(backend)\n",
    "estimator = Estimator(mode=aer)\n",
    "\n",
    "pauli_op = SparsePauliOp(['ZI', 'IZ', 'XX'])\n",
    "hamiltonian = pauli_op.apply_layout(layout=isa_circuit.layout)\n",
    "\n",
    "pub = (isa_circuit, [hamiltonian])\n",
    "result = estimator.run(pubs=[pub]).result()\n",
    "energy = result[0].data.evs[0]\n",
    "print(energy)\n",
    "\n",
    "\n",
    "#result = sampler.run(pubs=[pub], shots=10000).result()\n",
    "#print(result[0].data.meas.get_counts())"
   ]
  },
  {
   "cell_type": "code",
   "execution_count": null,
   "id": "39e8704d-1786-4146-b7b0-3dd617ba94a9",
   "metadata": {},
   "outputs": [],
   "source": []
  },
  {
   "cell_type": "code",
   "execution_count": null,
   "id": "56ff512c-b7ef-42a7-83f8-70659e38e5b4",
   "metadata": {},
   "outputs": [],
   "source": []
  }
 ],
 "metadata": {
  "kernelspec": {
   "display_name": "Python 3 (ipykernel)",
   "language": "python",
   "name": "python3"
  },
  "language_info": {
   "codemirror_mode": {
    "name": "ipython",
    "version": 3
   },
   "file_extension": ".py",
   "mimetype": "text/x-python",
   "name": "python",
   "nbconvert_exporter": "python",
   "pygments_lexer": "ipython3",
   "version": "3.11.6"
  }
 },
 "nbformat": 4,
 "nbformat_minor": 5
}
